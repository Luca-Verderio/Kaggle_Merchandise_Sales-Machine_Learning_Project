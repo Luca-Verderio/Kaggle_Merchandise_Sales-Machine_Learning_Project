{
 "cells": [
  {
   "cell_type": "markdown",
   "id": "97841976",
   "metadata": {
    "execution": {
     "iopub.execute_input": "2022-09-28T22:33:00.719077Z",
     "iopub.status.busy": "2022-09-28T22:33:00.718663Z",
     "iopub.status.idle": "2022-09-28T22:33:00.728070Z",
     "shell.execute_reply": "2022-09-28T22:33:00.726464Z",
     "shell.execute_reply.started": "2022-09-28T22:33:00.719044Z"
    },
    "papermill": {
     "duration": 0.009701,
     "end_time": "2022-09-30T00:06:33.598817",
     "exception": false,
     "start_time": "2022-09-30T00:06:33.589116",
     "status": "completed"
    },
    "tags": []
   },
   "source": [
    "# Table of Contents\n",
    "01. Importing libraries\n",
    "02. Importing data\n",
    "03. Data wrangling, cleaning and consistency checks\n",
    "<br>I. Missing values\n",
    "<br>II. Duplicate values\n",
    "<br>III. Mixed-type data\n",
    "<br>IV. Data types\n",
    "04. Data preprocessing\n",
    "05. Utilities\n",
    "06. Model\n",
    "07. Run model\n",
    "08. Export output file"
   ]
  },
  {
   "cell_type": "markdown",
   "id": "364cd27e",
   "metadata": {
    "papermill": {
     "duration": 0.007999,
     "end_time": "2022-09-30T00:06:33.615416",
     "exception": false,
     "start_time": "2022-09-30T00:06:33.607417",
     "status": "completed"
    },
    "tags": []
   },
   "source": [
    "# 01. Importing libraries"
   ]
  },
  {
   "cell_type": "code",
   "execution_count": 1,
   "id": "b7a2972e",
   "metadata": {
    "_cell_guid": "b1076dfc-b9ad-4769-8c92-a6c4dae69d19",
    "_uuid": "8f2839f25d086af736a60e9eeb907d3b93b6e0e5",
    "execution": {
     "iopub.execute_input": "2022-09-30T00:06:33.634519Z",
     "iopub.status.busy": "2022-09-30T00:06:33.633342Z",
     "iopub.status.idle": "2022-09-30T00:06:38.382031Z",
     "shell.execute_reply": "2022-09-30T00:06:38.380594Z"
    },
    "papermill": {
     "duration": 4.762138,
     "end_time": "2022-09-30T00:06:38.385760",
     "exception": false,
     "start_time": "2022-09-30T00:06:33.623622",
     "status": "completed"
    },
    "tags": []
   },
   "outputs": [],
   "source": [
    "# Import libraries\n",
    "import numpy as np\n",
    "import pandas as pd\n",
    "import matplotlib\n",
    "import matplotlib.pyplot as plt\n",
    "import os\n",
    "import warnings\n",
    "import tensorflow as tf\n",
    "\n",
    "warnings.filterwarnings(\"ignore\")\n",
    "\n",
    "plt.style.use('fivethirtyeight')"
   ]
  },
  {
   "cell_type": "code",
   "execution_count": 2,
   "id": "8b61455e",
   "metadata": {
    "execution": {
     "iopub.execute_input": "2022-09-30T00:06:38.406975Z",
     "iopub.status.busy": "2022-09-30T00:06:38.406177Z",
     "iopub.status.idle": "2022-09-30T00:06:38.566641Z",
     "shell.execute_reply": "2022-09-30T00:06:38.565462Z"
    },
    "papermill": {
     "duration": 0.172515,
     "end_time": "2022-09-30T00:06:38.569353",
     "exception": false,
     "start_time": "2022-09-30T00:06:38.396838",
     "status": "completed"
    },
    "tags": []
   },
   "outputs": [],
   "source": [
    "# Import data\n",
    "train_set = pd.read_csv('../input/tabular-playground-series-sep-2022/train.csv')\n",
    "test_set = pd.read_csv('../input/tabular-playground-series-sep-2022/test.csv')"
   ]
  },
  {
   "cell_type": "code",
   "execution_count": 3,
   "id": "e5968163",
   "metadata": {
    "execution": {
     "iopub.execute_input": "2022-09-30T00:06:38.590550Z",
     "iopub.status.busy": "2022-09-30T00:06:38.590167Z",
     "iopub.status.idle": "2022-09-30T00:06:38.598708Z",
     "shell.execute_reply": "2022-09-30T00:06:38.597661Z"
    },
    "papermill": {
     "duration": 0.022413,
     "end_time": "2022-09-30T00:06:38.601793",
     "exception": false,
     "start_time": "2022-09-30T00:06:38.579380",
     "status": "completed"
    },
    "tags": []
   },
   "outputs": [
    {
     "data": {
      "text/plain": [
       "(70128, 6)"
      ]
     },
     "execution_count": 3,
     "metadata": {},
     "output_type": "execute_result"
    }
   ],
   "source": [
    "# Check the number of rows and columns in 'train_set'\n",
    "train_set.shape"
   ]
  },
  {
   "cell_type": "code",
   "execution_count": 4,
   "id": "0eb99207",
   "metadata": {
    "execution": {
     "iopub.execute_input": "2022-09-30T00:06:38.624238Z",
     "iopub.status.busy": "2022-09-30T00:06:38.623555Z",
     "iopub.status.idle": "2022-09-30T00:06:38.630281Z",
     "shell.execute_reply": "2022-09-30T00:06:38.629345Z"
    },
    "papermill": {
     "duration": 0.020572,
     "end_time": "2022-09-30T00:06:38.632300",
     "exception": false,
     "start_time": "2022-09-30T00:06:38.611728",
     "status": "completed"
    },
    "tags": []
   },
   "outputs": [
    {
     "data": {
      "text/plain": [
       "(17520, 5)"
      ]
     },
     "execution_count": 4,
     "metadata": {},
     "output_type": "execute_result"
    }
   ],
   "source": [
    "# Check the number of rows and columns in 'test_set'\n",
    "test_set.shape"
   ]
  },
  {
   "cell_type": "code",
   "execution_count": 5,
   "id": "a1bf50aa",
   "metadata": {
    "execution": {
     "iopub.execute_input": "2022-09-30T00:06:38.652434Z",
     "iopub.status.busy": "2022-09-30T00:06:38.650905Z",
     "iopub.status.idle": "2022-09-30T00:06:38.669157Z",
     "shell.execute_reply": "2022-09-30T00:06:38.668296Z"
    },
    "papermill": {
     "duration": 0.029956,
     "end_time": "2022-09-30T00:06:38.671081",
     "exception": false,
     "start_time": "2022-09-30T00:06:38.641125",
     "status": "completed"
    },
    "tags": []
   },
   "outputs": [
    {
     "data": {
      "text/html": [
       "<div>\n",
       "<style scoped>\n",
       "    .dataframe tbody tr th:only-of-type {\n",
       "        vertical-align: middle;\n",
       "    }\n",
       "\n",
       "    .dataframe tbody tr th {\n",
       "        vertical-align: top;\n",
       "    }\n",
       "\n",
       "    .dataframe thead th {\n",
       "        text-align: right;\n",
       "    }\n",
       "</style>\n",
       "<table border=\"1\" class=\"dataframe\">\n",
       "  <thead>\n",
       "    <tr style=\"text-align: right;\">\n",
       "      <th></th>\n",
       "      <th>row_id</th>\n",
       "      <th>date</th>\n",
       "      <th>country</th>\n",
       "      <th>store</th>\n",
       "      <th>product</th>\n",
       "      <th>num_sold</th>\n",
       "    </tr>\n",
       "  </thead>\n",
       "  <tbody>\n",
       "    <tr>\n",
       "      <th>0</th>\n",
       "      <td>0</td>\n",
       "      <td>2017-01-01</td>\n",
       "      <td>Belgium</td>\n",
       "      <td>KaggleMart</td>\n",
       "      <td>Kaggle Advanced Techniques</td>\n",
       "      <td>663</td>\n",
       "    </tr>\n",
       "    <tr>\n",
       "      <th>1</th>\n",
       "      <td>1</td>\n",
       "      <td>2017-01-01</td>\n",
       "      <td>Belgium</td>\n",
       "      <td>KaggleMart</td>\n",
       "      <td>Kaggle Getting Started</td>\n",
       "      <td>615</td>\n",
       "    </tr>\n",
       "    <tr>\n",
       "      <th>2</th>\n",
       "      <td>2</td>\n",
       "      <td>2017-01-01</td>\n",
       "      <td>Belgium</td>\n",
       "      <td>KaggleMart</td>\n",
       "      <td>Kaggle Recipe Book</td>\n",
       "      <td>480</td>\n",
       "    </tr>\n",
       "    <tr>\n",
       "      <th>3</th>\n",
       "      <td>3</td>\n",
       "      <td>2017-01-01</td>\n",
       "      <td>Belgium</td>\n",
       "      <td>KaggleMart</td>\n",
       "      <td>Kaggle for Kids: One Smart Goose</td>\n",
       "      <td>710</td>\n",
       "    </tr>\n",
       "    <tr>\n",
       "      <th>4</th>\n",
       "      <td>4</td>\n",
       "      <td>2017-01-01</td>\n",
       "      <td>Belgium</td>\n",
       "      <td>KaggleRama</td>\n",
       "      <td>Kaggle Advanced Techniques</td>\n",
       "      <td>240</td>\n",
       "    </tr>\n",
       "  </tbody>\n",
       "</table>\n",
       "</div>"
      ],
      "text/plain": [
       "   row_id        date  country       store                           product  \\\n",
       "0       0  2017-01-01  Belgium  KaggleMart        Kaggle Advanced Techniques   \n",
       "1       1  2017-01-01  Belgium  KaggleMart            Kaggle Getting Started   \n",
       "2       2  2017-01-01  Belgium  KaggleMart                Kaggle Recipe Book   \n",
       "3       3  2017-01-01  Belgium  KaggleMart  Kaggle for Kids: One Smart Goose   \n",
       "4       4  2017-01-01  Belgium  KaggleRama        Kaggle Advanced Techniques   \n",
       "\n",
       "   num_sold  \n",
       "0       663  \n",
       "1       615  \n",
       "2       480  \n",
       "3       710  \n",
       "4       240  "
      ]
     },
     "execution_count": 5,
     "metadata": {},
     "output_type": "execute_result"
    }
   ],
   "source": [
    "# Display the top 5 rows from 'train_set'\n",
    "pd.set_option('display.max_columns', None)\n",
    "train_set.head(5)"
   ]
  },
  {
   "cell_type": "code",
   "execution_count": 6,
   "id": "b28d4124",
   "metadata": {
    "execution": {
     "iopub.execute_input": "2022-09-30T00:06:38.690708Z",
     "iopub.status.busy": "2022-09-30T00:06:38.689831Z",
     "iopub.status.idle": "2022-09-30T00:06:38.700686Z",
     "shell.execute_reply": "2022-09-30T00:06:38.699717Z"
    },
    "papermill": {
     "duration": 0.022657,
     "end_time": "2022-09-30T00:06:38.702906",
     "exception": false,
     "start_time": "2022-09-30T00:06:38.680249",
     "status": "completed"
    },
    "tags": []
   },
   "outputs": [
    {
     "data": {
      "text/html": [
       "<div>\n",
       "<style scoped>\n",
       "    .dataframe tbody tr th:only-of-type {\n",
       "        vertical-align: middle;\n",
       "    }\n",
       "\n",
       "    .dataframe tbody tr th {\n",
       "        vertical-align: top;\n",
       "    }\n",
       "\n",
       "    .dataframe thead th {\n",
       "        text-align: right;\n",
       "    }\n",
       "</style>\n",
       "<table border=\"1\" class=\"dataframe\">\n",
       "  <thead>\n",
       "    <tr style=\"text-align: right;\">\n",
       "      <th></th>\n",
       "      <th>row_id</th>\n",
       "      <th>date</th>\n",
       "      <th>country</th>\n",
       "      <th>store</th>\n",
       "      <th>product</th>\n",
       "    </tr>\n",
       "  </thead>\n",
       "  <tbody>\n",
       "    <tr>\n",
       "      <th>0</th>\n",
       "      <td>70128</td>\n",
       "      <td>2021-01-01</td>\n",
       "      <td>Belgium</td>\n",
       "      <td>KaggleMart</td>\n",
       "      <td>Kaggle Advanced Techniques</td>\n",
       "    </tr>\n",
       "    <tr>\n",
       "      <th>1</th>\n",
       "      <td>70129</td>\n",
       "      <td>2021-01-01</td>\n",
       "      <td>Belgium</td>\n",
       "      <td>KaggleMart</td>\n",
       "      <td>Kaggle Getting Started</td>\n",
       "    </tr>\n",
       "    <tr>\n",
       "      <th>2</th>\n",
       "      <td>70130</td>\n",
       "      <td>2021-01-01</td>\n",
       "      <td>Belgium</td>\n",
       "      <td>KaggleMart</td>\n",
       "      <td>Kaggle Recipe Book</td>\n",
       "    </tr>\n",
       "    <tr>\n",
       "      <th>3</th>\n",
       "      <td>70131</td>\n",
       "      <td>2021-01-01</td>\n",
       "      <td>Belgium</td>\n",
       "      <td>KaggleMart</td>\n",
       "      <td>Kaggle for Kids: One Smart Goose</td>\n",
       "    </tr>\n",
       "    <tr>\n",
       "      <th>4</th>\n",
       "      <td>70132</td>\n",
       "      <td>2021-01-01</td>\n",
       "      <td>Belgium</td>\n",
       "      <td>KaggleRama</td>\n",
       "      <td>Kaggle Advanced Techniques</td>\n",
       "    </tr>\n",
       "  </tbody>\n",
       "</table>\n",
       "</div>"
      ],
      "text/plain": [
       "   row_id        date  country       store                           product\n",
       "0   70128  2021-01-01  Belgium  KaggleMart        Kaggle Advanced Techniques\n",
       "1   70129  2021-01-01  Belgium  KaggleMart            Kaggle Getting Started\n",
       "2   70130  2021-01-01  Belgium  KaggleMart                Kaggle Recipe Book\n",
       "3   70131  2021-01-01  Belgium  KaggleMart  Kaggle for Kids: One Smart Goose\n",
       "4   70132  2021-01-01  Belgium  KaggleRama        Kaggle Advanced Techniques"
      ]
     },
     "execution_count": 6,
     "metadata": {},
     "output_type": "execute_result"
    }
   ],
   "source": [
    "# Display the top 5 rows from 'test_set'\n",
    "pd.set_option('display.max_columns', None)\n",
    "test_set.head(5)"
   ]
  },
  {
   "cell_type": "markdown",
   "id": "4d14c690",
   "metadata": {
    "papermill": {
     "duration": 0.008505,
     "end_time": "2022-09-30T00:06:38.720232",
     "exception": false,
     "start_time": "2022-09-30T00:06:38.711727",
     "status": "completed"
    },
    "tags": []
   },
   "source": [
    "# 03. Data wrangling, cleaning and consistency checks"
   ]
  },
  {
   "cell_type": "markdown",
   "id": "cee826b9",
   "metadata": {
    "execution": {
     "iopub.execute_input": "2022-09-28T19:57:52.117801Z",
     "iopub.status.busy": "2022-09-28T19:57:52.117440Z",
     "iopub.status.idle": "2022-09-28T19:57:52.121755Z",
     "shell.execute_reply": "2022-09-28T19:57:52.120588Z",
     "shell.execute_reply.started": "2022-09-28T19:57:52.117775Z"
    },
    "papermill": {
     "duration": 0.008937,
     "end_time": "2022-09-30T00:06:38.738001",
     "exception": false,
     "start_time": "2022-09-30T00:06:38.729064",
     "status": "completed"
    },
    "tags": []
   },
   "source": [
    "## I. Missing values"
   ]
  },
  {
   "cell_type": "code",
   "execution_count": 7,
   "id": "e4ddc31f",
   "metadata": {
    "execution": {
     "iopub.execute_input": "2022-09-30T00:06:38.756941Z",
     "iopub.status.busy": "2022-09-30T00:06:38.756620Z",
     "iopub.status.idle": "2022-09-30T00:06:38.761628Z",
     "shell.execute_reply": "2022-09-30T00:06:38.760715Z"
    },
    "papermill": {
     "duration": 0.016752,
     "end_time": "2022-09-30T00:06:38.763545",
     "exception": false,
     "start_time": "2022-09-30T00:06:38.746793",
     "status": "completed"
    },
    "tags": []
   },
   "outputs": [],
   "source": [
    "# Find missing values\n",
    "def missing_values(df):\n",
    "    if df.isnull().sum().sum() > 0:\n",
    "        return df.isnull().sum()\n",
    "    else:\n",
    "        print('No missing values found.')"
   ]
  },
  {
   "cell_type": "code",
   "execution_count": 8,
   "id": "aa03fe5e",
   "metadata": {
    "execution": {
     "iopub.execute_input": "2022-09-30T00:06:38.783285Z",
     "iopub.status.busy": "2022-09-30T00:06:38.781817Z",
     "iopub.status.idle": "2022-09-30T00:06:38.800047Z",
     "shell.execute_reply": "2022-09-30T00:06:38.798649Z"
    },
    "papermill": {
     "duration": 0.029956,
     "end_time": "2022-09-30T00:06:38.802105",
     "exception": false,
     "start_time": "2022-09-30T00:06:38.772149",
     "status": "completed"
    },
    "tags": []
   },
   "outputs": [
    {
     "name": "stdout",
     "output_type": "stream",
     "text": [
      "No missing values found.\n"
     ]
    }
   ],
   "source": [
    "# Find missing values in 'train_set'\n",
    "missing_values(train_set)"
   ]
  },
  {
   "cell_type": "code",
   "execution_count": 9,
   "id": "121f1431",
   "metadata": {
    "execution": {
     "iopub.execute_input": "2022-09-30T00:06:38.822275Z",
     "iopub.status.busy": "2022-09-30T00:06:38.820747Z",
     "iopub.status.idle": "2022-09-30T00:06:38.831249Z",
     "shell.execute_reply": "2022-09-30T00:06:38.829746Z"
    },
    "papermill": {
     "duration": 0.022872,
     "end_time": "2022-09-30T00:06:38.833780",
     "exception": false,
     "start_time": "2022-09-30T00:06:38.810908",
     "status": "completed"
    },
    "tags": []
   },
   "outputs": [
    {
     "name": "stdout",
     "output_type": "stream",
     "text": [
      "No missing values found.\n"
     ]
    }
   ],
   "source": [
    "# Find missing values in 'test_set'\n",
    "missing_values(test_set)"
   ]
  },
  {
   "cell_type": "markdown",
   "id": "10f87ec6",
   "metadata": {
    "papermill": {
     "duration": 0.008825,
     "end_time": "2022-09-30T00:06:38.851761",
     "exception": false,
     "start_time": "2022-09-30T00:06:38.842936",
     "status": "completed"
    },
    "tags": []
   },
   "source": [
    "## II. Duplicate values"
   ]
  },
  {
   "cell_type": "code",
   "execution_count": 10,
   "id": "c0baf31e",
   "metadata": {
    "execution": {
     "iopub.execute_input": "2022-09-30T00:06:38.872847Z",
     "iopub.status.busy": "2022-09-30T00:06:38.871704Z",
     "iopub.status.idle": "2022-09-30T00:06:38.877680Z",
     "shell.execute_reply": "2022-09-30T00:06:38.876819Z"
    },
    "papermill": {
     "duration": 0.01883,
     "end_time": "2022-09-30T00:06:38.879650",
     "exception": false,
     "start_time": "2022-09-30T00:06:38.860820",
     "status": "completed"
    },
    "tags": []
   },
   "outputs": [],
   "source": [
    "# Find duplicate values\n",
    "def duplicate_values(df):\n",
    "    df_dups = df[df.duplicated()]\n",
    "    \n",
    "    if len(df_dups) > 0:\n",
    "        return df_dups\n",
    "    else:\n",
    "        print('No duplicate values found.')"
   ]
  },
  {
   "cell_type": "code",
   "execution_count": 11,
   "id": "c7222249",
   "metadata": {
    "execution": {
     "iopub.execute_input": "2022-09-30T00:06:38.899718Z",
     "iopub.status.busy": "2022-09-30T00:06:38.899372Z",
     "iopub.status.idle": "2022-09-30T00:06:38.938973Z",
     "shell.execute_reply": "2022-09-30T00:06:38.937794Z"
    },
    "papermill": {
     "duration": 0.052611,
     "end_time": "2022-09-30T00:06:38.941111",
     "exception": false,
     "start_time": "2022-09-30T00:06:38.888500",
     "status": "completed"
    },
    "tags": []
   },
   "outputs": [
    {
     "name": "stdout",
     "output_type": "stream",
     "text": [
      "No duplicate values found.\n"
     ]
    }
   ],
   "source": [
    "# Find duplicate values in 'train_set'\n",
    "duplicate_values(train_set)"
   ]
  },
  {
   "cell_type": "code",
   "execution_count": 12,
   "id": "ba0fb17a",
   "metadata": {
    "execution": {
     "iopub.execute_input": "2022-09-30T00:06:38.961868Z",
     "iopub.status.busy": "2022-09-30T00:06:38.960814Z",
     "iopub.status.idle": "2022-09-30T00:06:38.974205Z",
     "shell.execute_reply": "2022-09-30T00:06:38.972922Z"
    },
    "papermill": {
     "duration": 0.025924,
     "end_time": "2022-09-30T00:06:38.976383",
     "exception": false,
     "start_time": "2022-09-30T00:06:38.950459",
     "status": "completed"
    },
    "tags": []
   },
   "outputs": [
    {
     "name": "stdout",
     "output_type": "stream",
     "text": [
      "No duplicate values found.\n"
     ]
    }
   ],
   "source": [
    "# Find duplicate values in 'test_set'\n",
    "duplicate_values(test_set)"
   ]
  },
  {
   "cell_type": "markdown",
   "id": "f649259c",
   "metadata": {
    "papermill": {
     "duration": 0.008805,
     "end_time": "2022-09-30T00:06:38.994804",
     "exception": false,
     "start_time": "2022-09-30T00:06:38.985999",
     "status": "completed"
    },
    "tags": []
   },
   "source": [
    "## III. Mixed-type data"
   ]
  },
  {
   "cell_type": "code",
   "execution_count": 13,
   "id": "cfa3af8b",
   "metadata": {
    "execution": {
     "iopub.execute_input": "2022-09-30T00:06:39.015795Z",
     "iopub.status.busy": "2022-09-30T00:06:39.014789Z",
     "iopub.status.idle": "2022-09-30T00:06:39.021189Z",
     "shell.execute_reply": "2022-09-30T00:06:39.020352Z"
    },
    "papermill": {
     "duration": 0.019038,
     "end_time": "2022-09-30T00:06:39.023183",
     "exception": false,
     "start_time": "2022-09-30T00:06:39.004145",
     "status": "completed"
    },
    "tags": []
   },
   "outputs": [],
   "source": [
    "# Check for mixed-type data\n",
    "def mixed_type_data(df):\n",
    "    i = 0\n",
    "    for col in df.columns.tolist():\n",
    "        weird = (df[[col]].applymap(type) != df[[col]].iloc[0].apply(type)).any(axis = 1)\n",
    "        if len (df[weird]) > 0:\n",
    "            print (col)\n",
    "            i += 1\n",
    "    \n",
    "    if i == 0:\n",
    "        print('No mix-type data found.')"
   ]
  },
  {
   "cell_type": "code",
   "execution_count": 14,
   "id": "4a30ec10",
   "metadata": {
    "execution": {
     "iopub.execute_input": "2022-09-30T00:06:39.042873Z",
     "iopub.status.busy": "2022-09-30T00:06:39.042121Z",
     "iopub.status.idle": "2022-09-30T00:06:39.135530Z",
     "shell.execute_reply": "2022-09-30T00:06:39.134198Z"
    },
    "papermill": {
     "duration": 0.106277,
     "end_time": "2022-09-30T00:06:39.138433",
     "exception": false,
     "start_time": "2022-09-30T00:06:39.032156",
     "status": "completed"
    },
    "tags": []
   },
   "outputs": [
    {
     "name": "stdout",
     "output_type": "stream",
     "text": [
      "No mix-type data found.\n"
     ]
    }
   ],
   "source": [
    "# Check for mixed-type data in 'train_set'\n",
    "mixed_type_data(train_set)"
   ]
  },
  {
   "cell_type": "code",
   "execution_count": 15,
   "id": "59656ef0",
   "metadata": {
    "execution": {
     "iopub.execute_input": "2022-09-30T00:06:39.159102Z",
     "iopub.status.busy": "2022-09-30T00:06:39.158779Z",
     "iopub.status.idle": "2022-09-30T00:06:39.195386Z",
     "shell.execute_reply": "2022-09-30T00:06:39.194366Z"
    },
    "papermill": {
     "duration": 0.049794,
     "end_time": "2022-09-30T00:06:39.198081",
     "exception": false,
     "start_time": "2022-09-30T00:06:39.148287",
     "status": "completed"
    },
    "tags": []
   },
   "outputs": [
    {
     "name": "stdout",
     "output_type": "stream",
     "text": [
      "No mix-type data found.\n"
     ]
    }
   ],
   "source": [
    "# Check for mixed-type data in 'test_set'\n",
    "mixed_type_data(test_set)"
   ]
  },
  {
   "cell_type": "markdown",
   "id": "30544459",
   "metadata": {
    "papermill": {
     "duration": 0.009321,
     "end_time": "2022-09-30T00:06:39.218004",
     "exception": false,
     "start_time": "2022-09-30T00:06:39.208683",
     "status": "completed"
    },
    "tags": []
   },
   "source": [
    "## IV. Data types"
   ]
  },
  {
   "cell_type": "code",
   "execution_count": 16,
   "id": "004026b7",
   "metadata": {
    "execution": {
     "iopub.execute_input": "2022-09-30T00:06:39.238981Z",
     "iopub.status.busy": "2022-09-30T00:06:39.238086Z",
     "iopub.status.idle": "2022-09-30T00:06:39.265555Z",
     "shell.execute_reply": "2022-09-30T00:06:39.264030Z"
    },
    "papermill": {
     "duration": 0.040269,
     "end_time": "2022-09-30T00:06:39.268026",
     "exception": false,
     "start_time": "2022-09-30T00:06:39.227757",
     "status": "completed"
    },
    "tags": []
   },
   "outputs": [
    {
     "name": "stdout",
     "output_type": "stream",
     "text": [
      "<class 'pandas.core.frame.DataFrame'>\n",
      "RangeIndex: 70128 entries, 0 to 70127\n",
      "Data columns (total 6 columns):\n",
      " #   Column    Non-Null Count  Dtype \n",
      "---  ------    --------------  ----- \n",
      " 0   row_id    70128 non-null  int64 \n",
      " 1   date      70128 non-null  object\n",
      " 2   country   70128 non-null  object\n",
      " 3   store     70128 non-null  object\n",
      " 4   product   70128 non-null  object\n",
      " 5   num_sold  70128 non-null  int64 \n",
      "dtypes: int64(2), object(4)\n",
      "memory usage: 3.2+ MB\n"
     ]
    }
   ],
   "source": [
    "# Display data types in 'train_set'\n",
    "train_set.info()"
   ]
  },
  {
   "cell_type": "code",
   "execution_count": 17,
   "id": "ec992ff9",
   "metadata": {
    "execution": {
     "iopub.execute_input": "2022-09-30T00:06:39.289607Z",
     "iopub.status.busy": "2022-09-30T00:06:39.288717Z",
     "iopub.status.idle": "2022-09-30T00:06:39.302511Z",
     "shell.execute_reply": "2022-09-30T00:06:39.301200Z"
    },
    "papermill": {
     "duration": 0.026559,
     "end_time": "2022-09-30T00:06:39.304613",
     "exception": false,
     "start_time": "2022-09-30T00:06:39.278054",
     "status": "completed"
    },
    "tags": []
   },
   "outputs": [
    {
     "name": "stdout",
     "output_type": "stream",
     "text": [
      "<class 'pandas.core.frame.DataFrame'>\n",
      "RangeIndex: 17520 entries, 0 to 17519\n",
      "Data columns (total 5 columns):\n",
      " #   Column   Non-Null Count  Dtype \n",
      "---  ------   --------------  ----- \n",
      " 0   row_id   17520 non-null  int64 \n",
      " 1   date     17520 non-null  object\n",
      " 2   country  17520 non-null  object\n",
      " 3   store    17520 non-null  object\n",
      " 4   product  17520 non-null  object\n",
      "dtypes: int64(1), object(4)\n",
      "memory usage: 684.5+ KB\n"
     ]
    }
   ],
   "source": [
    "# Display data types in 'test_set'\n",
    "test_set.info()"
   ]
  },
  {
   "cell_type": "markdown",
   "id": "791549af",
   "metadata": {
    "papermill": {
     "duration": 0.008984,
     "end_time": "2022-09-30T00:06:39.323019",
     "exception": false,
     "start_time": "2022-09-30T00:06:39.314035",
     "status": "completed"
    },
    "tags": []
   },
   "source": [
    "# 04. Data preprocessing"
   ]
  },
  {
   "cell_type": "code",
   "execution_count": 18,
   "id": "c8fb56bc",
   "metadata": {
    "execution": {
     "iopub.execute_input": "2022-09-30T00:06:39.343523Z",
     "iopub.status.busy": "2022-09-30T00:06:39.342635Z",
     "iopub.status.idle": "2022-09-30T00:06:39.348137Z",
     "shell.execute_reply": "2022-09-30T00:06:39.347235Z"
    },
    "papermill": {
     "duration": 0.018004,
     "end_time": "2022-09-30T00:06:39.350184",
     "exception": false,
     "start_time": "2022-09-30T00:06:39.332180",
     "status": "completed"
    },
    "tags": []
   },
   "outputs": [],
   "source": [
    "# Create a new column in 'test_set' called 'num_sold'\n",
    "test_set['num_sold'] = ''"
   ]
  },
  {
   "cell_type": "code",
   "execution_count": 19,
   "id": "aa09810d",
   "metadata": {
    "execution": {
     "iopub.execute_input": "2022-09-30T00:06:39.370362Z",
     "iopub.status.busy": "2022-09-30T00:06:39.369539Z",
     "iopub.status.idle": "2022-09-30T00:06:39.375175Z",
     "shell.execute_reply": "2022-09-30T00:06:39.374354Z"
    },
    "papermill": {
     "duration": 0.017795,
     "end_time": "2022-09-30T00:06:39.377130",
     "exception": false,
     "start_time": "2022-09-30T00:06:39.359335",
     "status": "completed"
    },
    "tags": []
   },
   "outputs": [],
   "source": [
    "# Create a dataset containing only rows for one specific country, store and product\n",
    "def create_dataset(train_set, country, store, product):\n",
    "    df = train_set[train_set['country'] == country]\n",
    "    df =  df[df['store'] == store]\n",
    "    df = df[df['product'] == product]\n",
    "    \n",
    "    return df"
   ]
  },
  {
   "cell_type": "code",
   "execution_count": 20,
   "id": "3ba98b70",
   "metadata": {
    "execution": {
     "iopub.execute_input": "2022-09-30T00:06:39.398004Z",
     "iopub.status.busy": "2022-09-30T00:06:39.396551Z",
     "iopub.status.idle": "2022-09-30T00:06:39.402797Z",
     "shell.execute_reply": "2022-09-30T00:06:39.401790Z"
    },
    "papermill": {
     "duration": 0.018778,
     "end_time": "2022-09-30T00:06:39.405005",
     "exception": false,
     "start_time": "2022-09-30T00:06:39.386227",
     "status": "completed"
    },
    "tags": []
   },
   "outputs": [],
   "source": [
    "# Adjust dataset\n",
    "def adjust_dataset(df):\n",
    "    df['date'] = pd.to_datetime(df['date']) # Convert 'date' from 'object' to 'datetime'\n",
    "    df = df.set_index('date') # Set 'date' as the index of the dataframe\n",
    "    \n",
    "    df.drop(['row_id', 'country', 'store', 'product'], axis = 1, inplace = True)\n",
    "    df.reset_index(inplace=True)\n",
    "    df.drop('date', axis = 1, inplace = True)\n",
    "    \n",
    "    return df"
   ]
  },
  {
   "cell_type": "code",
   "execution_count": 21,
   "id": "45fbfb43",
   "metadata": {
    "execution": {
     "iopub.execute_input": "2022-09-30T00:06:39.424543Z",
     "iopub.status.busy": "2022-09-30T00:06:39.424243Z",
     "iopub.status.idle": "2022-09-30T00:06:39.430043Z",
     "shell.execute_reply": "2022-09-30T00:06:39.429078Z"
    },
    "papermill": {
     "duration": 0.017757,
     "end_time": "2022-09-30T00:06:39.431968",
     "exception": false,
     "start_time": "2022-09-30T00:06:39.414211",
     "status": "completed"
    },
    "tags": []
   },
   "outputs": [],
   "source": [
    "# Create training set and validation set\n",
    "def train_valid_set(df, split_percentage):\n",
    "    time = np.array(df.index)\n",
    "    series = df['num_sold'].values\n",
    "    split_time = round(split_percentage * len(time)) # Define the split time\n",
    "    \n",
    "    # Get the train set\n",
    "    time_train = time[:split_time]\n",
    "    x_train = series[:split_time]\n",
    "\n",
    "    # Get the validation set\n",
    "    time_valid = time[split_time:]\n",
    "    x_valid = series[split_time:]\n",
    "        \n",
    "    return split_time, time, series, time_train, x_train, time_valid, x_valid "
   ]
  },
  {
   "cell_type": "code",
   "execution_count": 22,
   "id": "823823ce",
   "metadata": {
    "execution": {
     "iopub.execute_input": "2022-09-30T00:06:39.452167Z",
     "iopub.status.busy": "2022-09-30T00:06:39.451240Z",
     "iopub.status.idle": "2022-09-30T00:06:39.458025Z",
     "shell.execute_reply": "2022-09-30T00:06:39.457188Z"
    },
    "papermill": {
     "duration": 0.018758,
     "end_time": "2022-09-30T00:06:39.459973",
     "exception": false,
     "start_time": "2022-09-30T00:06:39.441215",
     "status": "completed"
    },
    "tags": []
   },
   "outputs": [],
   "source": [
    "# Create windowed dataset\n",
    "def windowed_dataset(series, window_size, batch_size, shuffle_buffer):\n",
    "\n",
    "    # Generate a TF Dataset from the series values\n",
    "    dataset = tf.data.Dataset.from_tensor_slices(series)\n",
    "    \n",
    "    # Window the data but only take those with the specified size\n",
    "    dataset = dataset.window(window_size + 1, shift=1, drop_remainder=True)\n",
    "    \n",
    "    # Flatten the windows by putting its elements in a single batch\n",
    "    dataset = dataset.flat_map(lambda window: window.batch(window_size + 1))\n",
    "\n",
    "    # Create tuples with features and labels \n",
    "    dataset = dataset.map(lambda window: (window[:-1], window[-1]))\n",
    "\n",
    "    # Shuffle the windows\n",
    "    dataset = dataset.shuffle(shuffle_buffer)\n",
    "    \n",
    "    # Create batches of windows\n",
    "    dataset = dataset.batch(batch_size).prefetch(1)\n",
    "    \n",
    "    return dataset"
   ]
  },
  {
   "cell_type": "markdown",
   "id": "e4c2b2ef",
   "metadata": {
    "papermill": {
     "duration": 0.008861,
     "end_time": "2022-09-30T00:06:39.478103",
     "exception": false,
     "start_time": "2022-09-30T00:06:39.469242",
     "status": "completed"
    },
    "tags": []
   },
   "source": [
    "# 05. Utilities"
   ]
  },
  {
   "cell_type": "code",
   "execution_count": 23,
   "id": "317f837e",
   "metadata": {
    "execution": {
     "iopub.execute_input": "2022-09-30T00:06:39.498275Z",
     "iopub.status.busy": "2022-09-30T00:06:39.497378Z",
     "iopub.status.idle": "2022-09-30T00:06:39.505204Z",
     "shell.execute_reply": "2022-09-30T00:06:39.504305Z"
    },
    "papermill": {
     "duration": 0.020069,
     "end_time": "2022-09-30T00:06:39.507248",
     "exception": false,
     "start_time": "2022-09-30T00:06:39.487179",
     "status": "completed"
    },
    "tags": []
   },
   "outputs": [],
   "source": [
    "# Define a function to plot graphs\n",
    "def plot_series(x, y, format=\"-\", start=0, end=None, \n",
    "                title=None, xlabel=None, ylabel=None, legend=None ):\n",
    "\n",
    "    # Setup dimensions of the graph figure\n",
    "    plt.figure(figsize=(10, 6))\n",
    "    \n",
    "    # Check if there are more than two series to plot\n",
    "    if type(y) is tuple:\n",
    "\n",
    "      # Loop over the y elements\n",
    "      for y_curr in y:\n",
    "\n",
    "        # Plot the x and current y values\n",
    "        plt.plot(x[start:end], y_curr[start:end], format)\n",
    "\n",
    "    else:\n",
    "      # Plot the x and y values\n",
    "      plt.plot(x[start:end], y[start:end], format)\n",
    "\n",
    "    # Label the x-axis\n",
    "    plt.xlabel(xlabel)\n",
    "\n",
    "    # Label the y-axis\n",
    "    plt.ylabel(ylabel)\n",
    "\n",
    "    # Set the legend\n",
    "    if legend:\n",
    "        plt.legend(legend)\n",
    "\n",
    "    # Set the title\n",
    "    plt.title(title)\n",
    "\n",
    "    # Overlay a grid on the graph\n",
    "    plt.grid(True)\n",
    "\n",
    "    # Draw the graph on screen\n",
    "    plt.show()"
   ]
  },
  {
   "cell_type": "code",
   "execution_count": 24,
   "id": "11ef8a79",
   "metadata": {
    "execution": {
     "iopub.execute_input": "2022-09-30T00:06:39.527709Z",
     "iopub.status.busy": "2022-09-30T00:06:39.526827Z",
     "iopub.status.idle": "2022-09-30T00:06:39.533488Z",
     "shell.execute_reply": "2022-09-30T00:06:39.532649Z"
    },
    "papermill": {
     "duration": 0.018846,
     "end_time": "2022-09-30T00:06:39.535456",
     "exception": false,
     "start_time": "2022-09-30T00:06:39.516610",
     "status": "completed"
    },
    "tags": []
   },
   "outputs": [],
   "source": [
    "# Define a forecast function\n",
    "def model_forecast(model, series, window_size, batch_size):\n",
    "\n",
    "    # Generate a TF Dataset from the series values\n",
    "    dataset = tf.data.Dataset.from_tensor_slices(series)\n",
    "\n",
    "    # Window the data but only take those with the specified size\n",
    "    dataset = dataset.window(window_size, shift=1, drop_remainder=True)\n",
    "\n",
    "    # Flatten the windows by putting its elements in a single batch\n",
    "    dataset = dataset.flat_map(lambda w: w.batch(window_size))\n",
    "    \n",
    "    # Create batches of windows\n",
    "    dataset = dataset.batch(batch_size).prefetch(1)\n",
    "    \n",
    "    # Get predictions on the entire dataset\n",
    "    forecast = model.predict(dataset)\n",
    "    \n",
    "    return forecast"
   ]
  },
  {
   "cell_type": "code",
   "execution_count": 25,
   "id": "0abbbd3f",
   "metadata": {
    "execution": {
     "iopub.execute_input": "2022-09-30T00:06:39.555716Z",
     "iopub.status.busy": "2022-09-30T00:06:39.554903Z",
     "iopub.status.idle": "2022-09-30T00:06:39.561121Z",
     "shell.execute_reply": "2022-09-30T00:06:39.560297Z"
    },
    "papermill": {
     "duration": 0.018255,
     "end_time": "2022-09-30T00:06:39.563085",
     "exception": false,
     "start_time": "2022-09-30T00:06:39.544830",
     "status": "completed"
    },
    "tags": []
   },
   "outputs": [],
   "source": [
    "# Generate predictions\n",
    "def forecast(model, series, window_size, batch_size, df, split_time, split_percentage, time_valid, x_valid, values_to_predict):\n",
    "    if split_percentage < 1:\n",
    "        # Reduce the original series\n",
    "        forecast_series = series[split_time-window_size:-1]\n",
    "    else:\n",
    "        forecast_series = series[len(df)-window_size-values_to_predict:-1]\n",
    "    \n",
    "    # Use helper function to generate predictions\n",
    "    predictions = model_forecast(model, forecast_series, window_size, batch_size)\n",
    "    # Drop single dimensional axes\n",
    "    predictions = predictions.squeeze()\n",
    "    \n",
    "    return predictions"
   ]
  },
  {
   "cell_type": "code",
   "execution_count": 26,
   "id": "d401a87c",
   "metadata": {
    "execution": {
     "iopub.execute_input": "2022-09-30T00:06:39.582701Z",
     "iopub.status.busy": "2022-09-30T00:06:39.582407Z",
     "iopub.status.idle": "2022-09-30T00:06:39.587805Z",
     "shell.execute_reply": "2022-09-30T00:06:39.586915Z"
    },
    "papermill": {
     "duration": 0.017373,
     "end_time": "2022-09-30T00:06:39.589749",
     "exception": false,
     "start_time": "2022-09-30T00:06:39.572376",
     "status": "completed"
    },
    "tags": []
   },
   "outputs": [],
   "source": [
    "# Add predictions into 'test_set'\n",
    "def fill_test_set(test_set, country, store, product, results):\n",
    "    counter = 0\n",
    "    for index, row in test_set.iterrows():\n",
    "        if test_set['country'][index] == country and test_set['store'][index] == store and test_set['product'][index] == product:\n",
    "            test_set['num_sold'][index] = results[counter]\n",
    "            counter += 1"
   ]
  },
  {
   "cell_type": "markdown",
   "id": "8f205973",
   "metadata": {
    "papermill": {
     "duration": 0.009494,
     "end_time": "2022-09-30T00:06:39.608579",
     "exception": false,
     "start_time": "2022-09-30T00:06:39.599085",
     "status": "completed"
    },
    "tags": []
   },
   "source": [
    "# 06. Model"
   ]
  },
  {
   "cell_type": "code",
   "execution_count": 27,
   "id": "b7a3a0c6",
   "metadata": {
    "execution": {
     "iopub.execute_input": "2022-09-30T00:06:39.628715Z",
     "iopub.status.busy": "2022-09-30T00:06:39.627811Z",
     "iopub.status.idle": "2022-09-30T00:06:43.686112Z",
     "shell.execute_reply": "2022-09-30T00:06:43.685216Z"
    },
    "papermill": {
     "duration": 4.070944,
     "end_time": "2022-09-30T00:06:43.688606",
     "exception": false,
     "start_time": "2022-09-30T00:06:39.617662",
     "status": "completed"
    },
    "tags": []
   },
   "outputs": [
    {
     "name": "stderr",
     "output_type": "stream",
     "text": [
      "2022-09-30 00:06:40.776412: I tensorflow/stream_executor/cuda/cuda_gpu_executor.cc:937] successful NUMA node read from SysFS had negative value (-1), but there must be at least one NUMA node, so returning NUMA node zero\n",
      "2022-09-30 00:06:40.879158: I tensorflow/stream_executor/cuda/cuda_gpu_executor.cc:937] successful NUMA node read from SysFS had negative value (-1), but there must be at least one NUMA node, so returning NUMA node zero\n",
      "2022-09-30 00:06:40.880855: I tensorflow/stream_executor/cuda/cuda_gpu_executor.cc:937] successful NUMA node read from SysFS had negative value (-1), but there must be at least one NUMA node, so returning NUMA node zero\n",
      "2022-09-30 00:06:40.883775: I tensorflow/core/platform/cpu_feature_guard.cc:142] This TensorFlow binary is optimized with oneAPI Deep Neural Network Library (oneDNN) to use the following CPU instructions in performance-critical operations:  AVX2 AVX512F FMA\n",
      "To enable them in other operations, rebuild TensorFlow with the appropriate compiler flags.\n",
      "2022-09-30 00:06:40.884111: I tensorflow/stream_executor/cuda/cuda_gpu_executor.cc:937] successful NUMA node read from SysFS had negative value (-1), but there must be at least one NUMA node, so returning NUMA node zero\n",
      "2022-09-30 00:06:40.885730: I tensorflow/stream_executor/cuda/cuda_gpu_executor.cc:937] successful NUMA node read from SysFS had negative value (-1), but there must be at least one NUMA node, so returning NUMA node zero\n",
      "2022-09-30 00:06:40.887263: I tensorflow/stream_executor/cuda/cuda_gpu_executor.cc:937] successful NUMA node read from SysFS had negative value (-1), but there must be at least one NUMA node, so returning NUMA node zero\n",
      "2022-09-30 00:06:43.296957: I tensorflow/stream_executor/cuda/cuda_gpu_executor.cc:937] successful NUMA node read from SysFS had negative value (-1), but there must be at least one NUMA node, so returning NUMA node zero\n",
      "2022-09-30 00:06:43.298361: I tensorflow/stream_executor/cuda/cuda_gpu_executor.cc:937] successful NUMA node read from SysFS had negative value (-1), but there must be at least one NUMA node, so returning NUMA node zero\n",
      "2022-09-30 00:06:43.299614: I tensorflow/stream_executor/cuda/cuda_gpu_executor.cc:937] successful NUMA node read from SysFS had negative value (-1), but there must be at least one NUMA node, so returning NUMA node zero\n",
      "2022-09-30 00:06:43.300808: I tensorflow/core/common_runtime/gpu/gpu_device.cc:1510] Created device /job:localhost/replica:0/task:0/device:GPU:0 with 15401 MB memory:  -> device: 0, name: Tesla P100-PCIE-16GB, pci bus id: 0000:00:04.0, compute capability: 6.0\n"
     ]
    }
   ],
   "source": [
    "from keras.layers import Conv1D\n",
    "\n",
    "# Reset states generated by Keras\n",
    "tf.keras.backend.clear_session()\n",
    "\n",
    "# Build the Model\n",
    "model = tf.keras.models.Sequential([\n",
    "    tf.keras.layers.Lambda(lambda x: tf.expand_dims(tf.cast(x, tf.float32), axis=-1)),\n",
    "    tf.keras.layers.Conv1D(filters=32, kernel_size=5, strides=1, padding=\"causal\", activation=\"relu\", input_shape=[None, 1]),\n",
    "    tf.keras.layers.LSTM(32, return_sequences=True),\n",
    "    tf.keras.layers.LSTM(32),\n",
    "    tf.keras.layers.Dense(30, activation='relu'),\n",
    "    tf.keras.layers.Dense(10, activation='relu'),\n",
    "    tf.keras.layers.Dense(1),\n",
    "    tf.keras.layers.Lambda(lambda x: x * 400)\n",
    "])"
   ]
  },
  {
   "cell_type": "code",
   "execution_count": 28,
   "id": "964c26ed",
   "metadata": {
    "execution": {
     "iopub.execute_input": "2022-09-30T00:06:43.717203Z",
     "iopub.status.busy": "2022-09-30T00:06:43.716862Z",
     "iopub.status.idle": "2022-09-30T00:06:43.886963Z",
     "shell.execute_reply": "2022-09-30T00:06:43.885966Z"
    },
    "papermill": {
     "duration": 0.184726,
     "end_time": "2022-09-30T00:06:43.889352",
     "exception": false,
     "start_time": "2022-09-30T00:06:43.704626",
     "status": "completed"
    },
    "tags": []
   },
   "outputs": [],
   "source": [
    "# Set the optimizer\n",
    "optimizer = tf.keras.optimizers.Adam()\n",
    "\n",
    "# Set the training parameters\n",
    "model.compile(loss=tf.keras.losses.Huber(),\n",
    "              optimizer=optimizer,\n",
    "              metrics=[\"mae\"])"
   ]
  },
  {
   "cell_type": "markdown",
   "id": "258e27e9",
   "metadata": {
    "papermill": {
     "duration": 0.00934,
     "end_time": "2022-09-30T00:06:43.908261",
     "exception": false,
     "start_time": "2022-09-30T00:06:43.898921",
     "status": "completed"
    },
    "tags": []
   },
   "source": [
    "# 07. Run model"
   ]
  },
  {
   "cell_type": "markdown",
   "id": "67f5fa50",
   "metadata": {
    "papermill": {
     "duration": 0.008942,
     "end_time": "2022-09-30T00:06:43.926670",
     "exception": false,
     "start_time": "2022-09-30T00:06:43.917728",
     "status": "completed"
    },
    "tags": []
   },
   "source": [
    "In order to assess the performance of the model, it will first be run on a subset of 'train_set' containing only data for the first country, store and product in 'train_set'."
   ]
  },
  {
   "cell_type": "code",
   "execution_count": 29,
   "id": "50387a1e",
   "metadata": {
    "execution": {
     "iopub.execute_input": "2022-09-30T00:06:43.947265Z",
     "iopub.status.busy": "2022-09-30T00:06:43.946235Z",
     "iopub.status.idle": "2022-09-30T00:08:38.538615Z",
     "shell.execute_reply": "2022-09-30T00:08:38.537583Z"
    },
    "papermill": {
     "duration": 114.605715,
     "end_time": "2022-09-30T00:08:38.541637",
     "exception": false,
     "start_time": "2022-09-30T00:06:43.935922",
     "status": "completed"
    },
    "tags": []
   },
   "outputs": [
    {
     "name": "stderr",
     "output_type": "stream",
     "text": [
      "2022-09-30 00:06:46.805446: I tensorflow/compiler/mlir/mlir_graph_optimization_pass.cc:185] None of the MLIR Optimization Passes are enabled (registered 2)\n",
      "2022-09-30 00:06:48.183074: I tensorflow/stream_executor/cuda/cuda_dnn.cc:369] Loaded cuDNN version 8005\n"
     ]
    }
   ],
   "source": [
    "# Run model on a time series relative to the first country, store and product in 'train_set'\n",
    "\n",
    "# Parameters\n",
    "window_size = 64\n",
    "batch_size = 75\n",
    "shuffle_buffer_size = 1000\n",
    "split_percentage = 0.7\n",
    "values_to_predict = 0\n",
    "\n",
    "country = train_set['country'].unique()[0]\n",
    "store = train_set['store'].unique()[0]\n",
    "product= train_set['product'].unique()[0]\n",
    "\n",
    "df = create_dataset(train_set, country, store, product)\n",
    "\n",
    "df = adjust_dataset(df)\n",
    "\n",
    "split_time, time, series, time_train, x_train, time_valid, x_valid = train_valid_set(df, split_percentage)\n",
    "\n",
    "train_window = windowed_dataset(x_train, window_size, batch_size, shuffle_buffer_size)\n",
    "\n",
    "history = model.fit(train_window, epochs=200, verbose=0)\n",
    "\n",
    "results = forecast(model, series, window_size, batch_size, df, split_time, split_percentage, time_valid, x_valid, values_to_predict)"
   ]
  },
  {
   "cell_type": "code",
   "execution_count": 30,
   "id": "960c9b8f",
   "metadata": {
    "execution": {
     "iopub.execute_input": "2022-09-30T00:08:38.562818Z",
     "iopub.status.busy": "2022-09-30T00:08:38.562430Z",
     "iopub.status.idle": "2022-09-30T00:08:38.801251Z",
     "shell.execute_reply": "2022-09-30T00:08:38.800301Z"
    },
    "papermill": {
     "duration": 0.252087,
     "end_time": "2022-09-30T00:08:38.803756",
     "exception": false,
     "start_time": "2022-09-30T00:08:38.551669",
     "status": "completed"
    },
    "tags": []
   },
   "outputs": [
    {
     "data": {
      "image/png": "[encoded data removed]",
      "text/plain": [
       "<Figure size 720x432 with 1 Axes>"
      ]
     },
     "metadata": {},
     "output_type": "display_data"
    }
   ],
   "source": [
    "# Plot the results against the validation set\n",
    "plot_series(time_valid, (x_valid, results))"
   ]
  },
  {
   "cell_type": "code",
   "execution_count": 31,
   "id": "762faf9b",
   "metadata": {
    "execution": {
     "iopub.execute_input": "2022-09-30T00:08:38.826036Z",
     "iopub.status.busy": "2022-09-30T00:08:38.825676Z",
     "iopub.status.idle": "2022-09-30T00:08:38.835428Z",
     "shell.execute_reply": "2022-09-30T00:08:38.834375Z"
    },
    "papermill": {
     "duration": 0.023621,
     "end_time": "2022-09-30T00:08:38.837953",
     "exception": false,
     "start_time": "2022-09-30T00:08:38.814332",
     "status": "completed"
    },
    "tags": []
   },
   "outputs": [
    {
     "name": "stdout",
     "output_type": "stream",
     "text": [
      "1795.4879\n",
      "32.708736\n"
     ]
    }
   ],
   "source": [
    "## Compute the MAE and MSE\n",
    "print(tf.keras.metrics.mean_squared_error(x_valid, results).numpy())\n",
    "print(tf.keras.metrics.mean_absolute_error(x_valid, results).numpy())"
   ]
  },
  {
   "cell_type": "markdown",
   "id": "14a30364",
   "metadata": {
    "papermill": {
     "duration": 0.010302,
     "end_time": "2022-09-30T00:08:38.858780",
     "exception": false,
     "start_time": "2022-09-30T00:08:38.848478",
     "status": "completed"
    },
    "tags": []
   },
   "source": [
    "The model is deemed sufficiently accurate. Hence, the entire 'train_set' will now be fed into the neural network."
   ]
  },
  {
   "cell_type": "code",
   "execution_count": 32,
   "id": "47a91563",
   "metadata": {
    "execution": {
     "iopub.execute_input": "2022-09-30T00:08:38.881162Z",
     "iopub.status.busy": "2022-09-30T00:08:38.880804Z",
     "iopub.status.idle": "2022-09-30T01:43:54.570930Z",
     "shell.execute_reply": "2022-09-30T01:43:54.569722Z"
    },
    "papermill": {
     "duration": 5715.70436,
     "end_time": "2022-09-30T01:43:54.573805",
     "exception": false,
     "start_time": "2022-09-30T00:08:38.869445",
     "status": "completed"
    },
    "tags": []
   },
   "outputs": [],
   "source": [
    "# Run model on entire 'train_set'\n",
    "\n",
    "# Parameters\n",
    "window_size = 64\n",
    "batch_size = 75\n",
    "shuffle_buffer_size = 1000\n",
    "split_percentage = 1\n",
    "values_to_predict = 365\n",
    "\n",
    "for country in train_set['country'].unique():\n",
    "    for store in train_set['store'].unique():\n",
    "        for product in train_set['product'].unique():\n",
    "            \n",
    "            df = create_dataset(train_set, country, store, product)\n",
    "            \n",
    "            df = adjust_dataset(df)\n",
    "            \n",
    "            split_time, time, series, time_train, x_train, time_valid, x_valid = train_valid_set(df, split_percentage)\n",
    "            \n",
    "            train_window = windowed_dataset(x_train, window_size, batch_size, shuffle_buffer_size)\n",
    "            \n",
    "            history = model.fit(train_window, epochs=200, verbose=0)\n",
    "            \n",
    "            results = forecast(model, series, window_size, batch_size, df, split_time, split_percentage, time_valid, x_valid, values_to_predict)\n",
    "            \n",
    "            fill_test_set(test_set, country, store, product, results)"
   ]
  },
  {
   "cell_type": "markdown",
   "id": "7d0949c3",
   "metadata": {
    "papermill": {
     "duration": 0.009965,
     "end_time": "2022-09-30T01:43:54.594505",
     "exception": false,
     "start_time": "2022-09-30T01:43:54.584540",
     "status": "completed"
    },
    "tags": []
   },
   "source": [
    "# 08. Export output file"
   ]
  },
  {
   "cell_type": "code",
   "execution_count": 33,
   "id": "2ea779ac",
   "metadata": {
    "execution": {
     "iopub.execute_input": "2022-09-30T01:43:54.616442Z",
     "iopub.status.busy": "2022-09-30T01:43:54.616099Z",
     "iopub.status.idle": "2022-09-30T01:43:54.652899Z",
     "shell.execute_reply": "2022-09-30T01:43:54.652034Z"
    },
    "papermill": {
     "duration": 0.050438,
     "end_time": "2022-09-30T01:43:54.654992",
     "exception": false,
     "start_time": "2022-09-30T01:43:54.604554",
     "status": "completed"
    },
    "tags": []
   },
   "outputs": [],
   "source": [
    "submission = test_set.copy()\n",
    "submission = submission.set_index('row_id')\n",
    "submission.drop(['date', 'country', 'store', 'product'], axis = 1, inplace = True)\n",
    "submission.to_csv('./submission.csv')"
   ]
  }
 ],
 "metadata": {
  "kernelspec": {
   "display_name": "Python 3",
   "language": "python",
   "name": "python3"
  },
  "language_info": {
   "codemirror_mode": {
    "name": "ipython",
    "version": 3
   },
   "file_extension": ".py",
   "mimetype": "text/x-python",
   "name": "python",
   "nbconvert_exporter": "python",
   "pygments_lexer": "ipython3",
   "version": "3.7.12"
  },
  "papermill": {
   "default_parameters": {},
   "duration": 5853.046336,
   "end_time": "2022-09-30T01:43:58.554560",
   "environment_variables": {},
   "exception": null,
   "input_path": "__notebook__.ipynb",
   "output_path": "__notebook__.ipynb",
   "parameters": {},
   "start_time": "2022-09-30T00:06:25.508224",
   "version": "2.3.4"
  }
 },
 "nbformat": 4,
 "nbformat_minor": 5
}
